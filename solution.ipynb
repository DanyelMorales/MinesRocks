{
  "nbformat": 4,
  "nbformat_minor": 0,
  "metadata": {
    "colab": {
      "provenance": [],
      "authorship_tag": "ABX9TyMyFhTTB7Gfxh3w8jUL4ZLJ",
      "include_colab_link": true
    },
    "kernelspec": {
      "name": "python3",
      "display_name": "Python 3"
    },
    "language_info": {
      "name": "python"
    }
  },
  "cells": [
    {
      "cell_type": "markdown",
      "metadata": {
        "id": "view-in-github",
        "colab_type": "text"
      },
      "source": [
        "<a href=\"https://colab.research.google.com/github/DanyelMorales/MinesRocks/blob/main/solution.ipynb\" target=\"_parent\"><img src=\"https://colab.research.google.com/assets/colab-badge.svg\" alt=\"Open In Colab\"/></a>"
      ]
    },
    {
      "cell_type": "code",
      "source": [
        "!curl -o \"sonar.all-data\" \"https://raw.githubusercontent.com/DanyelMorales/MinesRocks/main/dataset/sonar.all-data\""
      ],
      "metadata": {
        "colab": {
          "base_uri": "https://localhost:8080/"
        },
        "id": "lgPBM3Z8-WNS",
        "outputId": "9b2c34ef-c960-4bc0-dba6-d97be2e7da39"
      },
      "execution_count": 28,
      "outputs": [
        {
          "output_type": "stream",
          "name": "stdout",
          "text": [
            "  % Total    % Received % Xferd  Average Speed   Time    Time     Time  Current\n",
            "                                 Dload  Upload   Total   Spent    Left  Speed\n",
            "100 87776  100 87776    0     0   353k      0 --:--:-- --:--:-- --:--:--  354k\n"
          ]
        }
      ]
    },
    {
      "cell_type": "code",
      "source": [
        "!curl -o \"sonar.mines\" \"https://raw.githubusercontent.com/DanyelMorales/MinesRocks/main/dataset/sonar.mines\""
      ],
      "metadata": {
        "colab": {
          "base_uri": "https://localhost:8080/"
        },
        "id": "P6qyHHgk-cxD",
        "outputId": "4ba8c674-e781-4b6f-bdfe-8c3d8270fd74"
      },
      "execution_count": 29,
      "outputs": [
        {
          "output_type": "stream",
          "name": "stdout",
          "text": [
            "  % Total    % Received % Xferd  Average Speed   Time    Time     Time  Current\n",
            "                                 Dload  Upload   Total   Spent    Left  Speed\n",
            "100 49217  100 49217    0     0   164k      0 --:--:-- --:--:-- --:--:--  164k\n"
          ]
        }
      ]
    },
    {
      "cell_type": "code",
      "source": [
        "!curl -o \"sonar.names\" \"https://raw.githubusercontent.com/DanyelMorales/MinesRocks/main/dataset/sonar.names\""
      ],
      "metadata": {
        "colab": {
          "base_uri": "https://localhost:8080/"
        },
        "id": "yW5YK1bLiKTr",
        "outputId": "132ac542-9ab2-4c17-8b41-33c28fff4939"
      },
      "execution_count": 30,
      "outputs": [
        {
          "output_type": "stream",
          "name": "stdout",
          "text": [
            "  % Total    % Received % Xferd  Average Speed   Time    Time     Time  Current\n",
            "                                 Dload  Upload   Total   Spent    Left  Speed\n",
            "100  5872  100  5872    0     0  21149      0 --:--:-- --:--:-- --:--:-- 21198\n"
          ]
        }
      ]
    },
    {
      "cell_type": "code",
      "source": [
        "!curl -o \"sonar.rocks\" \"https://raw.githubusercontent.com/DanyelMorales/MinesRocks/main/dataset/sonar.rocks\""
      ],
      "metadata": {
        "colab": {
          "base_uri": "https://localhost:8080/"
        },
        "id": "NyqqE8MQizyb",
        "outputId": "f884a9d3-dac0-4673-9d68-16f1fad0a6d5"
      },
      "execution_count": 31,
      "outputs": [
        {
          "output_type": "stream",
          "name": "stdout",
          "text": [
            "  % Total    % Received % Xferd  Average Speed   Time    Time     Time  Current\n",
            "                                 Dload  Upload   Total   Spent    Left  Speed\n",
            "100 43052  100 43052    0     0   139k      0 --:--:-- --:--:-- --:--:--  139k\n"
          ]
        }
      ]
    },
    {
      "cell_type": "code",
      "source": [
        "!curl -o \"mnist.py\" \"https://raw.githubusercontent.com/DanyelMorales/MLLearneerRepo/main/lib/mnist.py\""
      ],
      "metadata": {
        "id": "TCXwfCV7Fmdh",
        "outputId": "763c1a51-23c5-4454-8ec8-bcb4f974a4ea",
        "colab": {
          "base_uri": "https://localhost:8080/"
        }
      },
      "execution_count": 32,
      "outputs": [
        {
          "output_type": "stream",
          "name": "stdout",
          "text": [
            "  % Total    % Received % Xferd  Average Speed   Time    Time     Time  Current\n",
            "                                 Dload  Upload   Total   Spent    Left  Speed\n",
            "100  1802  100  1802    0     0   8499      0 --:--:-- --:--:-- --:--:--  8540\n"
          ]
        }
      ]
    },
    {
      "cell_type": "code",
      "source": [
        "!curl -o \"digit_classifier.py\" \"https://raw.githubusercontent.com/DanyelMorales/MLLearneerRepo/main/lib/digit_classifier.py\""
      ],
      "metadata": {
        "id": "m5rW__IXFmgo",
        "outputId": "232a555a-b6e7-4247-f233-3114c5870367",
        "colab": {
          "base_uri": "https://localhost:8080/"
        }
      },
      "execution_count": 33,
      "outputs": [
        {
          "output_type": "stream",
          "name": "stdout",
          "text": [
            "  % Total    % Received % Xferd  Average Speed   Time    Time     Time  Current\n",
            "                                 Dload  Upload   Total   Spent    Left  Speed\n",
            "100  1481  100  1481    0     0   5980      0 --:--:-- --:--:-- --:--:--  5995\n"
          ]
        }
      ]
    },
    {
      "cell_type": "code",
      "source": [
        "import pandas as pd\n",
        "import numpy as np\n",
        "\n",
        "data_df = pd.read_csv(\"sonar.all-data\", header=None)\n",
        "data_df.head()"
      ],
      "metadata": {
        "id": "DJrPYUmU-U_y",
        "outputId": "99236862-42a9-4295-d8f7-b5607f8eca60",
        "colab": {
          "base_uri": "https://localhost:8080/",
          "height": 256
        }
      },
      "execution_count": 34,
      "outputs": [
        {
          "output_type": "execute_result",
          "data": {
            "text/plain": [
              "       0       1       2       3       4       5       6       7       8   \\\n",
              "0  0.0200  0.0371  0.0428  0.0207  0.0954  0.0986  0.1539  0.1601  0.3109   \n",
              "1  0.0453  0.0523  0.0843  0.0689  0.1183  0.2583  0.2156  0.3481  0.3337   \n",
              "2  0.0262  0.0582  0.1099  0.1083  0.0974  0.2280  0.2431  0.3771  0.5598   \n",
              "3  0.0100  0.0171  0.0623  0.0205  0.0205  0.0368  0.1098  0.1276  0.0598   \n",
              "4  0.0762  0.0666  0.0481  0.0394  0.0590  0.0649  0.1209  0.2467  0.3564   \n",
              "\n",
              "       9   ...      51      52      53      54      55      56      57  \\\n",
              "0  0.2111  ...  0.0027  0.0065  0.0159  0.0072  0.0167  0.0180  0.0084   \n",
              "1  0.2872  ...  0.0084  0.0089  0.0048  0.0094  0.0191  0.0140  0.0049   \n",
              "2  0.6194  ...  0.0232  0.0166  0.0095  0.0180  0.0244  0.0316  0.0164   \n",
              "3  0.1264  ...  0.0121  0.0036  0.0150  0.0085  0.0073  0.0050  0.0044   \n",
              "4  0.4459  ...  0.0031  0.0054  0.0105  0.0110  0.0015  0.0072  0.0048   \n",
              "\n",
              "       58      59  60  \n",
              "0  0.0090  0.0032   R  \n",
              "1  0.0052  0.0044   R  \n",
              "2  0.0095  0.0078   R  \n",
              "3  0.0040  0.0117   R  \n",
              "4  0.0107  0.0094   R  \n",
              "\n",
              "[5 rows x 61 columns]"
            ],
            "text/html": [
              "\n",
              "  <div id=\"df-2d7b6d8c-a89a-4ca1-abe4-a05d00733a96\" class=\"colab-df-container\">\n",
              "    <div>\n",
              "<style scoped>\n",
              "    .dataframe tbody tr th:only-of-type {\n",
              "        vertical-align: middle;\n",
              "    }\n",
              "\n",
              "    .dataframe tbody tr th {\n",
              "        vertical-align: top;\n",
              "    }\n",
              "\n",
              "    .dataframe thead th {\n",
              "        text-align: right;\n",
              "    }\n",
              "</style>\n",
              "<table border=\"1\" class=\"dataframe\">\n",
              "  <thead>\n",
              "    <tr style=\"text-align: right;\">\n",
              "      <th></th>\n",
              "      <th>0</th>\n",
              "      <th>1</th>\n",
              "      <th>2</th>\n",
              "      <th>3</th>\n",
              "      <th>4</th>\n",
              "      <th>5</th>\n",
              "      <th>6</th>\n",
              "      <th>7</th>\n",
              "      <th>8</th>\n",
              "      <th>9</th>\n",
              "      <th>...</th>\n",
              "      <th>51</th>\n",
              "      <th>52</th>\n",
              "      <th>53</th>\n",
              "      <th>54</th>\n",
              "      <th>55</th>\n",
              "      <th>56</th>\n",
              "      <th>57</th>\n",
              "      <th>58</th>\n",
              "      <th>59</th>\n",
              "      <th>60</th>\n",
              "    </tr>\n",
              "  </thead>\n",
              "  <tbody>\n",
              "    <tr>\n",
              "      <th>0</th>\n",
              "      <td>0.0200</td>\n",
              "      <td>0.0371</td>\n",
              "      <td>0.0428</td>\n",
              "      <td>0.0207</td>\n",
              "      <td>0.0954</td>\n",
              "      <td>0.0986</td>\n",
              "      <td>0.1539</td>\n",
              "      <td>0.1601</td>\n",
              "      <td>0.3109</td>\n",
              "      <td>0.2111</td>\n",
              "      <td>...</td>\n",
              "      <td>0.0027</td>\n",
              "      <td>0.0065</td>\n",
              "      <td>0.0159</td>\n",
              "      <td>0.0072</td>\n",
              "      <td>0.0167</td>\n",
              "      <td>0.0180</td>\n",
              "      <td>0.0084</td>\n",
              "      <td>0.0090</td>\n",
              "      <td>0.0032</td>\n",
              "      <td>R</td>\n",
              "    </tr>\n",
              "    <tr>\n",
              "      <th>1</th>\n",
              "      <td>0.0453</td>\n",
              "      <td>0.0523</td>\n",
              "      <td>0.0843</td>\n",
              "      <td>0.0689</td>\n",
              "      <td>0.1183</td>\n",
              "      <td>0.2583</td>\n",
              "      <td>0.2156</td>\n",
              "      <td>0.3481</td>\n",
              "      <td>0.3337</td>\n",
              "      <td>0.2872</td>\n",
              "      <td>...</td>\n",
              "      <td>0.0084</td>\n",
              "      <td>0.0089</td>\n",
              "      <td>0.0048</td>\n",
              "      <td>0.0094</td>\n",
              "      <td>0.0191</td>\n",
              "      <td>0.0140</td>\n",
              "      <td>0.0049</td>\n",
              "      <td>0.0052</td>\n",
              "      <td>0.0044</td>\n",
              "      <td>R</td>\n",
              "    </tr>\n",
              "    <tr>\n",
              "      <th>2</th>\n",
              "      <td>0.0262</td>\n",
              "      <td>0.0582</td>\n",
              "      <td>0.1099</td>\n",
              "      <td>0.1083</td>\n",
              "      <td>0.0974</td>\n",
              "      <td>0.2280</td>\n",
              "      <td>0.2431</td>\n",
              "      <td>0.3771</td>\n",
              "      <td>0.5598</td>\n",
              "      <td>0.6194</td>\n",
              "      <td>...</td>\n",
              "      <td>0.0232</td>\n",
              "      <td>0.0166</td>\n",
              "      <td>0.0095</td>\n",
              "      <td>0.0180</td>\n",
              "      <td>0.0244</td>\n",
              "      <td>0.0316</td>\n",
              "      <td>0.0164</td>\n",
              "      <td>0.0095</td>\n",
              "      <td>0.0078</td>\n",
              "      <td>R</td>\n",
              "    </tr>\n",
              "    <tr>\n",
              "      <th>3</th>\n",
              "      <td>0.0100</td>\n",
              "      <td>0.0171</td>\n",
              "      <td>0.0623</td>\n",
              "      <td>0.0205</td>\n",
              "      <td>0.0205</td>\n",
              "      <td>0.0368</td>\n",
              "      <td>0.1098</td>\n",
              "      <td>0.1276</td>\n",
              "      <td>0.0598</td>\n",
              "      <td>0.1264</td>\n",
              "      <td>...</td>\n",
              "      <td>0.0121</td>\n",
              "      <td>0.0036</td>\n",
              "      <td>0.0150</td>\n",
              "      <td>0.0085</td>\n",
              "      <td>0.0073</td>\n",
              "      <td>0.0050</td>\n",
              "      <td>0.0044</td>\n",
              "      <td>0.0040</td>\n",
              "      <td>0.0117</td>\n",
              "      <td>R</td>\n",
              "    </tr>\n",
              "    <tr>\n",
              "      <th>4</th>\n",
              "      <td>0.0762</td>\n",
              "      <td>0.0666</td>\n",
              "      <td>0.0481</td>\n",
              "      <td>0.0394</td>\n",
              "      <td>0.0590</td>\n",
              "      <td>0.0649</td>\n",
              "      <td>0.1209</td>\n",
              "      <td>0.2467</td>\n",
              "      <td>0.3564</td>\n",
              "      <td>0.4459</td>\n",
              "      <td>...</td>\n",
              "      <td>0.0031</td>\n",
              "      <td>0.0054</td>\n",
              "      <td>0.0105</td>\n",
              "      <td>0.0110</td>\n",
              "      <td>0.0015</td>\n",
              "      <td>0.0072</td>\n",
              "      <td>0.0048</td>\n",
              "      <td>0.0107</td>\n",
              "      <td>0.0094</td>\n",
              "      <td>R</td>\n",
              "    </tr>\n",
              "  </tbody>\n",
              "</table>\n",
              "<p>5 rows × 61 columns</p>\n",
              "</div>\n",
              "    <div class=\"colab-df-buttons\">\n",
              "\n",
              "  <div class=\"colab-df-container\">\n",
              "    <button class=\"colab-df-convert\" onclick=\"convertToInteractive('df-2d7b6d8c-a89a-4ca1-abe4-a05d00733a96')\"\n",
              "            title=\"Convert this dataframe to an interactive table.\"\n",
              "            style=\"display:none;\">\n",
              "\n",
              "  <svg xmlns=\"http://www.w3.org/2000/svg\" height=\"24px\" viewBox=\"0 -960 960 960\">\n",
              "    <path d=\"M120-120v-720h720v720H120Zm60-500h600v-160H180v160Zm220 220h160v-160H400v160Zm0 220h160v-160H400v160ZM180-400h160v-160H180v160Zm440 0h160v-160H620v160ZM180-180h160v-160H180v160Zm440 0h160v-160H620v160Z\"/>\n",
              "  </svg>\n",
              "    </button>\n",
              "\n",
              "  <style>\n",
              "    .colab-df-container {\n",
              "      display:flex;\n",
              "      gap: 12px;\n",
              "    }\n",
              "\n",
              "    .colab-df-convert {\n",
              "      background-color: #E8F0FE;\n",
              "      border: none;\n",
              "      border-radius: 50%;\n",
              "      cursor: pointer;\n",
              "      display: none;\n",
              "      fill: #1967D2;\n",
              "      height: 32px;\n",
              "      padding: 0 0 0 0;\n",
              "      width: 32px;\n",
              "    }\n",
              "\n",
              "    .colab-df-convert:hover {\n",
              "      background-color: #E2EBFA;\n",
              "      box-shadow: 0px 1px 2px rgba(60, 64, 67, 0.3), 0px 1px 3px 1px rgba(60, 64, 67, 0.15);\n",
              "      fill: #174EA6;\n",
              "    }\n",
              "\n",
              "    .colab-df-buttons div {\n",
              "      margin-bottom: 4px;\n",
              "    }\n",
              "\n",
              "    [theme=dark] .colab-df-convert {\n",
              "      background-color: #3B4455;\n",
              "      fill: #D2E3FC;\n",
              "    }\n",
              "\n",
              "    [theme=dark] .colab-df-convert:hover {\n",
              "      background-color: #434B5C;\n",
              "      box-shadow: 0px 1px 3px 1px rgba(0, 0, 0, 0.15);\n",
              "      filter: drop-shadow(0px 1px 2px rgba(0, 0, 0, 0.3));\n",
              "      fill: #FFFFFF;\n",
              "    }\n",
              "  </style>\n",
              "\n",
              "    <script>\n",
              "      const buttonEl =\n",
              "        document.querySelector('#df-2d7b6d8c-a89a-4ca1-abe4-a05d00733a96 button.colab-df-convert');\n",
              "      buttonEl.style.display =\n",
              "        google.colab.kernel.accessAllowed ? 'block' : 'none';\n",
              "\n",
              "      async function convertToInteractive(key) {\n",
              "        const element = document.querySelector('#df-2d7b6d8c-a89a-4ca1-abe4-a05d00733a96');\n",
              "        const dataTable =\n",
              "          await google.colab.kernel.invokeFunction('convertToInteractive',\n",
              "                                                    [key], {});\n",
              "        if (!dataTable) return;\n",
              "\n",
              "        const docLinkHtml = 'Like what you see? Visit the ' +\n",
              "          '<a target=\"_blank\" href=https://colab.research.google.com/notebooks/data_table.ipynb>data table notebook</a>'\n",
              "          + ' to learn more about interactive tables.';\n",
              "        element.innerHTML = '';\n",
              "        dataTable['output_type'] = 'display_data';\n",
              "        await google.colab.output.renderOutput(dataTable, element);\n",
              "        const docLink = document.createElement('div');\n",
              "        docLink.innerHTML = docLinkHtml;\n",
              "        element.appendChild(docLink);\n",
              "      }\n",
              "    </script>\n",
              "  </div>\n",
              "\n",
              "\n",
              "<div id=\"df-80b590c9-7d64-4bad-b251-061bad1a2cc0\">\n",
              "  <button class=\"colab-df-quickchart\" onclick=\"quickchart('df-80b590c9-7d64-4bad-b251-061bad1a2cc0')\"\n",
              "            title=\"Suggest charts\"\n",
              "            style=\"display:none;\">\n",
              "\n",
              "<svg xmlns=\"http://www.w3.org/2000/svg\" height=\"24px\"viewBox=\"0 0 24 24\"\n",
              "     width=\"24px\">\n",
              "    <g>\n",
              "        <path d=\"M19 3H5c-1.1 0-2 .9-2 2v14c0 1.1.9 2 2 2h14c1.1 0 2-.9 2-2V5c0-1.1-.9-2-2-2zM9 17H7v-7h2v7zm4 0h-2V7h2v10zm4 0h-2v-4h2v4z\"/>\n",
              "    </g>\n",
              "</svg>\n",
              "  </button>\n",
              "\n",
              "<style>\n",
              "  .colab-df-quickchart {\n",
              "      --bg-color: #E8F0FE;\n",
              "      --fill-color: #1967D2;\n",
              "      --hover-bg-color: #E2EBFA;\n",
              "      --hover-fill-color: #174EA6;\n",
              "      --disabled-fill-color: #AAA;\n",
              "      --disabled-bg-color: #DDD;\n",
              "  }\n",
              "\n",
              "  [theme=dark] .colab-df-quickchart {\n",
              "      --bg-color: #3B4455;\n",
              "      --fill-color: #D2E3FC;\n",
              "      --hover-bg-color: #434B5C;\n",
              "      --hover-fill-color: #FFFFFF;\n",
              "      --disabled-bg-color: #3B4455;\n",
              "      --disabled-fill-color: #666;\n",
              "  }\n",
              "\n",
              "  .colab-df-quickchart {\n",
              "    background-color: var(--bg-color);\n",
              "    border: none;\n",
              "    border-radius: 50%;\n",
              "    cursor: pointer;\n",
              "    display: none;\n",
              "    fill: var(--fill-color);\n",
              "    height: 32px;\n",
              "    padding: 0;\n",
              "    width: 32px;\n",
              "  }\n",
              "\n",
              "  .colab-df-quickchart:hover {\n",
              "    background-color: var(--hover-bg-color);\n",
              "    box-shadow: 0 1px 2px rgba(60, 64, 67, 0.3), 0 1px 3px 1px rgba(60, 64, 67, 0.15);\n",
              "    fill: var(--button-hover-fill-color);\n",
              "  }\n",
              "\n",
              "  .colab-df-quickchart-complete:disabled,\n",
              "  .colab-df-quickchart-complete:disabled:hover {\n",
              "    background-color: var(--disabled-bg-color);\n",
              "    fill: var(--disabled-fill-color);\n",
              "    box-shadow: none;\n",
              "  }\n",
              "\n",
              "  .colab-df-spinner {\n",
              "    border: 2px solid var(--fill-color);\n",
              "    border-color: transparent;\n",
              "    border-bottom-color: var(--fill-color);\n",
              "    animation:\n",
              "      spin 1s steps(1) infinite;\n",
              "  }\n",
              "\n",
              "  @keyframes spin {\n",
              "    0% {\n",
              "      border-color: transparent;\n",
              "      border-bottom-color: var(--fill-color);\n",
              "      border-left-color: var(--fill-color);\n",
              "    }\n",
              "    20% {\n",
              "      border-color: transparent;\n",
              "      border-left-color: var(--fill-color);\n",
              "      border-top-color: var(--fill-color);\n",
              "    }\n",
              "    30% {\n",
              "      border-color: transparent;\n",
              "      border-left-color: var(--fill-color);\n",
              "      border-top-color: var(--fill-color);\n",
              "      border-right-color: var(--fill-color);\n",
              "    }\n",
              "    40% {\n",
              "      border-color: transparent;\n",
              "      border-right-color: var(--fill-color);\n",
              "      border-top-color: var(--fill-color);\n",
              "    }\n",
              "    60% {\n",
              "      border-color: transparent;\n",
              "      border-right-color: var(--fill-color);\n",
              "    }\n",
              "    80% {\n",
              "      border-color: transparent;\n",
              "      border-right-color: var(--fill-color);\n",
              "      border-bottom-color: var(--fill-color);\n",
              "    }\n",
              "    90% {\n",
              "      border-color: transparent;\n",
              "      border-bottom-color: var(--fill-color);\n",
              "    }\n",
              "  }\n",
              "</style>\n",
              "\n",
              "  <script>\n",
              "    async function quickchart(key) {\n",
              "      const quickchartButtonEl =\n",
              "        document.querySelector('#' + key + ' button');\n",
              "      quickchartButtonEl.disabled = true;  // To prevent multiple clicks.\n",
              "      quickchartButtonEl.classList.add('colab-df-spinner');\n",
              "      try {\n",
              "        const charts = await google.colab.kernel.invokeFunction(\n",
              "            'suggestCharts', [key], {});\n",
              "      } catch (error) {\n",
              "        console.error('Error during call to suggestCharts:', error);\n",
              "      }\n",
              "      quickchartButtonEl.classList.remove('colab-df-spinner');\n",
              "      quickchartButtonEl.classList.add('colab-df-quickchart-complete');\n",
              "    }\n",
              "    (() => {\n",
              "      let quickchartButtonEl =\n",
              "        document.querySelector('#df-80b590c9-7d64-4bad-b251-061bad1a2cc0 button');\n",
              "      quickchartButtonEl.style.display =\n",
              "        google.colab.kernel.accessAllowed ? 'block' : 'none';\n",
              "    })();\n",
              "  </script>\n",
              "</div>\n",
              "\n",
              "    </div>\n",
              "  </div>\n"
            ],
            "application/vnd.google.colaboratory.intrinsic+json": {
              "type": "dataframe",
              "variable_name": "data_df"
            }
          },
          "metadata": {},
          "execution_count": 34
        }
      ]
    },
    {
      "cell_type": "code",
      "source": [
        "data_np = data_df.to_numpy()\n",
        "np.random.shuffle(data_np)\n",
        "data_np.shape"
      ],
      "metadata": {
        "id": "IGWqhkWc-VFi",
        "outputId": "a912c85d-6437-4bd1-8348-bdff74f1f57b",
        "colab": {
          "base_uri": "https://localhost:8080/"
        }
      },
      "execution_count": 35,
      "outputs": [
        {
          "output_type": "execute_result",
          "data": {
            "text/plain": [
              "(208, 61)"
            ]
          },
          "metadata": {},
          "execution_count": 35
        }
      ]
    },
    {
      "cell_type": "code",
      "source": [
        "data_np"
      ],
      "metadata": {
        "id": "E1DqUA4l-VKe",
        "outputId": "660483e2-3e75-4ff3-c249-334714a8611c",
        "colab": {
          "base_uri": "https://localhost:8080/"
        }
      },
      "execution_count": 36,
      "outputs": [
        {
          "output_type": "execute_result",
          "data": {
            "text/plain": [
              "array([[0.0084, 0.0153, 0.0291, ..., 0.0072, 0.0045, 'R'],\n",
              "       [0.0068, 0.0232, 0.0513, ..., 0.0194, 0.0105, 'R'],\n",
              "       [0.0116, 0.0179, 0.0449, ..., 0.0148, 0.0092, 'M'],\n",
              "       ...,\n",
              "       [0.0107, 0.0453, 0.0289, ..., 0.0017, 0.0036, 'M'],\n",
              "       [0.0235, 0.0291, 0.0749, ..., 0.0108, 0.009, 'R'],\n",
              "       [0.1088, 0.1278, 0.0926, ..., 0.0178, 0.0187, 'M']], dtype=object)"
            ]
          },
          "metadata": {},
          "execution_count": 36
        }
      ]
    },
    {
      "cell_type": "code",
      "source": [
        "from mnist import prepend_bias, load_images, load_labels,one_hot_encode,extract_test_data\n",
        "import digit_classifier"
      ],
      "metadata": {
        "id": "biVW3f09Imy1"
      },
      "execution_count": 37,
      "outputs": []
    },
    {
      "cell_type": "code",
      "source": [
        "X_train, Y_train, X_test, Y_test = extract_test_data(data_np)"
      ],
      "metadata": {
        "id": "QmVbpLEPBXVa",
        "outputId": "360f735b-5d93-4e3f-e510-718c12cf3aad",
        "colab": {
          "base_uri": "https://localhost:8080/"
        }
      },
      "execution_count": 38,
      "outputs": [
        {
          "output_type": "stream",
          "name": "stdout",
          "text": [
            "test_size: 48\n",
            "[[0.0084 0.0153 0.0291 ... 0.0072 0.0045 'R']\n",
            " [0.0068 0.0232 0.0513 ... 0.0194 0.0105 'R']\n",
            " [0.0116 0.0179 0.0449 ... 0.0148 0.0092 'M']\n",
            " ...\n",
            " [0.0108 0.0086 0.0058 ... 0.0026 0.0027 'R']\n",
            " [0.0109 0.0093 0.0121 ... 0.0055 0.0039 'R']\n",
            " [0.0188 0.037 0.0953 ... 0.0068 0.0024 'R']]\n"
          ]
        }
      ]
    },
    {
      "cell_type": "code",
      "source": [
        "Y_train = one_hot_encode(Y_train, True,2)\n",
        "X_train = prepend_bias(X_train)\n",
        "X_test = prepend_bias(X_test)"
      ],
      "metadata": {
        "id": "dAaq2Ex_BXYS",
        "outputId": "0d3dcead-1156-4023-fde9-fbafa587ab6d",
        "colab": {
          "base_uri": "https://localhost:8080/"
        }
      },
      "execution_count": 39,
      "outputs": [
        {
          "output_type": "stream",
          "name": "stdout",
          "text": [
            "{'M': 1, 'R': 0}\n"
          ]
        }
      ]
    },
    {
      "cell_type": "code",
      "source": [
        "Y_train = Y_train.astype(np.float64)\n",
        "X_train = X_train.astype(np.float64)\n",
        "X_test  = X_test.astype(np.float64)"
      ],
      "metadata": {
        "id": "HauG9kC4awMu"
      },
      "execution_count": 40,
      "outputs": []
    },
    {
      "cell_type": "code",
      "source": [
        "print(Y_train.dtype)\n",
        "print(X_train.dtype)\n",
        "print(X_test.dtype)"
      ],
      "metadata": {
        "id": "RFQ-QMVjR1v2",
        "outputId": "a9691b2d-dbad-4d48-c2a7-f495b400ff1b",
        "colab": {
          "base_uri": "https://localhost:8080/"
        }
      },
      "execution_count": 54,
      "outputs": [
        {
          "output_type": "stream",
          "name": "stdout",
          "text": [
            "float64\n",
            "float64\n",
            "float64\n"
          ]
        }
      ]
    },
    {
      "cell_type": "code",
      "source": [
        "w = digit_classifier.train(X_train,Y_train,X_test,Y_test, iterations=200, lr=0.01)"
      ],
      "metadata": {
        "colab": {
          "base_uri": "https://localhost:8080/"
        },
        "id": "Q-7u3wmhlYcW",
        "outputId": "47f15068-dc92-4dc4-96c4-f1ca8214eb8d"
      },
      "execution_count": 53,
      "outputs": [
        {
          "output_type": "stream",
          "name": "stdout",
          "text": [
            "0 - Loss: 1.3862943611198906, \n",
            " 0.0%\n",
            "1 - Loss: 1.385069484420347, \n",
            " 0.0%\n",
            "2 - Loss: 1.383887304877708, \n",
            " 0.0%\n",
            "3 - Loss: 1.382745939140651, \n",
            " 0.0%\n",
            "4 - Loss: 1.3816435867409824, \n",
            " 0.0%\n",
            "5 - Loss: 1.3805785265667085, \n",
            " 0.0%\n",
            "6 - Loss: 1.3795491134708158, \n",
            " 0.0%\n",
            "7 - Loss: 1.3785537750121029, \n",
            " 0.0%\n",
            "8 - Loss: 1.377591008324329, \n",
            " 0.0%\n",
            "9 - Loss: 1.3766593771098914, \n",
            " 0.0%\n",
            "10 - Loss: 1.3757575087542129, \n",
            " 0.0%\n",
            "11 - Loss: 1.3748840915570142, \n",
            " 0.0%\n",
            "12 - Loss: 1.37403787207665, \n",
            " 0.0%\n",
            "13 - Loss: 1.3732176525837179, \n",
            " 0.0%\n",
            "14 - Loss: 1.3724222886201756, \n",
            " 0.0%\n",
            "15 - Loss: 1.3716506866602611, \n",
            " 0.0%\n",
            "16 - Loss: 1.3709018018695567, \n",
            " 0.0%\n",
            "17 - Loss: 1.3701746359586144, \n",
            " 0.0%\n",
            "18 - Loss: 1.369468235127626, \n",
            " 0.0%\n",
            "19 - Loss: 1.3687816880986983, \n",
            " 0.0%\n",
            "20 - Loss: 1.3681141242323824, \n",
            " 0.0%\n",
            "21 - Loss: 1.3674647117251884, \n",
            " 0.0%\n",
            "22 - Loss: 1.366832655884903, \n",
            " 0.0%\n",
            "23 - Loss: 1.3662171974806283, \n",
            " 0.0%\n",
            "24 - Loss: 1.3656176111645377, \n",
            " 0.0%\n",
            "25 - Loss: 1.365033203962454, \n",
            " 0.0%\n",
            "26 - Loss: 1.3644633138304303, \n",
            " 0.0%\n",
            "27 - Loss: 1.3639073082746282, \n",
            " 0.0%\n",
            "28 - Loss: 1.363364583031856, \n",
            " 0.0%\n",
            "29 - Loss: 1.362834560808244, \n",
            " 0.0%\n",
            "30 - Loss: 1.362316690073608, \n",
            " 0.0%\n",
            "31 - Loss: 1.3618104439091467, \n",
            " 0.0%\n",
            "32 - Loss: 1.3613153189062093, \n",
            " 0.0%\n",
            "33 - Loss: 1.3608308341139466, \n",
            " 0.0%\n",
            "34 - Loss: 1.3603565300337492, \n",
            " 0.0%\n",
            "35 - Loss: 1.359891967658456, \n",
            " 0.0%\n",
            "36 - Loss: 1.3594367275543917, \n",
            " 0.0%\n",
            "37 - Loss: 1.3589904089843747, \n",
            " 0.0%\n",
            "38 - Loss: 1.3585526290699064, \n",
            " 0.0%\n",
            "39 - Loss: 1.3581230219908274, \n",
            " 0.0%\n",
            "40 - Loss: 1.357701238220799, \n",
            " 0.0%\n",
            "41 - Loss: 1.3572869437970287, \n",
            " 0.0%\n",
            "42 - Loss: 1.356879819622733, \n",
            " 0.0%\n",
            "43 - Loss: 1.3564795608008857, \n",
            " 0.0%\n",
            "44 - Loss: 1.3560858759978687, \n",
            " 0.0%\n",
            "45 - Loss: 1.3556984868356927, \n",
            " 0.0%\n",
            "46 - Loss: 1.355317127311523, \n",
            " 0.0%\n",
            "47 - Loss: 1.3549415432432834, \n",
            " 0.0%\n",
            "48 - Loss: 1.3545714917401868, \n",
            " 0.0%\n",
            "49 - Loss: 1.3542067406970628, \n",
            " 0.0%\n",
            "50 - Loss: 1.3538470683114334, \n",
            " 0.0%\n",
            "51 - Loss: 1.3534922626223036, \n",
            " 0.0%\n",
            "52 - Loss: 1.3531421210696994, \n",
            " 0.0%\n",
            "53 - Loss: 1.352796450074021, \n",
            " 0.0%\n",
            "54 - Loss: 1.3524550646343187, \n",
            " 0.0%\n",
            "55 - Loss: 1.3521177879446402, \n",
            " 0.0%\n",
            "56 - Loss: 1.3517844510276382, \n",
            " 0.0%\n",
            "57 - Loss: 1.3514548923846594, \n",
            " 0.0%\n",
            "58 - Loss: 1.3511289576615688, \n",
            " 0.0%\n",
            "59 - Loss: 1.350806499329607, \n",
            " 0.0%\n",
            "60 - Loss: 1.350487376380595, \n",
            " 0.0%\n",
            "61 - Loss: 1.3501714540358447, \n",
            " 0.0%\n",
            "62 - Loss: 1.3498586034681515, \n",
            " 0.0%\n",
            "63 - Loss: 1.349548701536283, \n",
            " 0.0%\n",
            "64 - Loss: 1.3492416305313972, \n",
            " 0.0%\n",
            "65 - Loss: 1.3489372779348494, \n",
            " 0.0%\n",
            "66 - Loss: 1.3486355361868798, \n",
            " 0.0%\n",
            "67 - Loss: 1.3483363024656811, \n",
            " 0.0%\n",
            "68 - Loss: 1.348039478476387, \n",
            " 0.0%\n",
            "69 - Loss: 1.3477449702495252, \n",
            " 0.0%\n",
            "70 - Loss: 1.3474526879485145, \n",
            " 0.0%\n",
            "71 - Loss: 1.3471625456857899, \n",
            " 0.0%\n",
            "72 - Loss: 1.3468744613471746, \n",
            " 0.0%\n",
            "73 - Loss: 1.346588356424119, \n",
            " 0.0%\n",
            "74 - Loss: 1.3463041558534574, \n",
            " 0.0%\n",
            "75 - Loss: 1.3460217878643388, \n",
            " 0.0%\n",
            "76 - Loss: 1.34574118383201, \n",
            " 0.0%\n",
            "77 - Loss: 1.3454622781381427, \n",
            " 0.0%\n",
            "78 - Loss: 1.345185008037409, \n",
            " 0.0%\n",
            "79 - Loss: 1.3449093135300212, \n",
            " 0.0%\n",
            "80 - Loss: 1.3446351372399703, \n",
            " 0.0%\n",
            "81 - Loss: 1.3443624242987053, \n",
            " 0.0%\n",
            "82 - Loss: 1.344091122234008, \n",
            " 0.0%\n",
            "83 - Loss: 1.3438211808638294, \n",
            " 0.0%\n",
            "84 - Loss: 1.3435525521948626, \n",
            " 0.0%\n",
            "85 - Loss: 1.3432851903256455, \n",
            " 0.0%\n",
            "86 - Loss: 1.3430190513539801, \n",
            " 0.0%\n",
            "87 - Loss: 1.3427540932884814, \n",
            " 0.0%\n",
            "88 - Loss: 1.342490275964068, \n",
            " 0.0%\n",
            "89 - Loss: 1.3422275609612182, \n",
            " 0.0%\n",
            "90 - Loss: 1.3419659115288187, \n",
            " 0.0%\n",
            "91 - Loss: 1.341705292510452, \n",
            " 0.0%\n",
            "92 - Loss: 1.341445670273959, \n",
            " 0.0%\n",
            "93 - Loss: 1.3411870126441392, \n",
            " 0.0%\n",
            "94 - Loss: 1.3409292888384396, \n",
            " 0.0%\n",
            "95 - Loss: 1.3406724694055054, \n",
            " 0.0%\n",
            "96 - Loss: 1.3404165261664573, \n",
            " 0.0%\n",
            "97 - Loss: 1.3401614321587805, \n",
            " 0.0%\n",
            "98 - Loss: 1.3399071615827025, \n",
            " 0.0%\n",
            "99 - Loss: 1.3396536897499527, \n",
            " 0.0%\n",
            "100 - Loss: 1.3394009930347928, \n",
            " 0.0%\n",
            "101 - Loss: 1.3391490488272222, \n",
            " 0.0%\n",
            "102 - Loss: 1.3388978354882557, \n",
            " 0.0%\n",
            "103 - Loss: 1.338647332307185, \n",
            " 0.0%\n",
            "104 - Loss: 1.338397519460732, \n",
            " 0.0%\n",
            "105 - Loss: 1.3381483779740129, \n",
            " 0.0%\n",
            "106 - Loss: 1.3378998896832286, \n",
            " 0.0%\n",
            "107 - Loss: 1.3376520372000107, \n",
            " 0.0%\n",
            "108 - Loss: 1.337404803877338, \n",
            " 0.0%\n",
            "109 - Loss: 1.3371581737769684, \n",
            " 0.0%\n",
            "110 - Loss: 1.3369121316383055, \n",
            " 0.0%\n",
            "111 - Loss: 1.3366666628486428, \n",
            " 0.0%\n",
            "112 - Loss: 1.3364217534147238, \n",
            " 0.0%\n",
            "113 - Loss: 1.336177389935558, \n",
            " 0.0%\n",
            "114 - Loss: 1.335933559576437, \n",
            " 0.0%\n",
            "115 - Loss: 1.3356902500440981, \n",
            " 0.0%\n",
            "116 - Loss: 1.3354474495629831, \n",
            " 0.0%\n",
            "117 - Loss: 1.3352051468525472, \n",
            " 0.0%\n",
            "118 - Loss: 1.3349633311055666, \n",
            " 0.0%\n",
            "119 - Loss: 1.3347219919674032, \n",
            " 0.0%\n",
            "120 - Loss: 1.3344811195161832, \n",
            " 0.0%\n",
            "121 - Loss: 1.3342407042438507, \n",
            " 0.0%\n",
            "122 - Loss: 1.3340007370380536, \n",
            " 0.0%\n",
            "123 - Loss: 1.3337612091648314, \n",
            " 0.0%\n",
            "124 - Loss: 1.3335221122520602, \n",
            " 0.0%\n",
            "125 - Loss: 1.3332834382736318, \n",
            " 0.0%\n",
            "126 - Loss: 1.3330451795343243, \n",
            " 0.0%\n",
            "127 - Loss: 1.3328073286553435, \n",
            " 0.0%\n",
            "128 - Loss: 1.332569878560496, \n",
            " 0.0%\n",
            "129 - Loss: 1.332332822462972, \n",
            " 0.0%\n",
            "130 - Loss: 1.3320961538527112, \n",
            " 0.0%\n",
            "131 - Loss: 1.3318598664843215, \n",
            " 0.0%\n",
            "132 - Loss: 1.3316239543655293, \n",
            " 0.0%\n",
            "133 - Loss: 1.331388411746138, \n",
            " 0.0%\n",
            "134 - Loss: 1.3311532331074722, \n",
            " 0.0%\n",
            "135 - Loss: 1.3309184131522833, \n",
            " 0.0%\n",
            "136 - Loss: 1.3306839467950993, \n",
            " 0.0%\n",
            "137 - Loss: 1.3304498291530011, \n",
            " 0.0%\n",
            "138 - Loss: 1.3302160555367986, \n",
            " 0.0%\n",
            "139 - Loss: 1.3299826214425974, \n",
            " 0.0%\n",
            "140 - Loss: 1.3297495225437355, \n",
            " 0.0%\n",
            "141 - Loss: 1.3295167546830728, \n",
            " 0.0%\n",
            "142 - Loss: 1.3292843138656185, \n",
            " 0.0%\n",
            "143 - Loss: 1.3290521962514814, \n",
            " 0.0%\n",
            "144 - Loss: 1.3288203981491322, \n",
            " 0.0%\n",
            "145 - Loss: 1.328588916008957, \n",
            " 0.0%\n",
            "146 - Loss: 1.3283577464170975, \n",
            " 0.0%\n",
            "147 - Loss: 1.328126886089556, \n",
            " 0.0%\n",
            "148 - Loss: 1.3278963318665644, \n",
            " 0.0%\n",
            "149 - Loss: 1.3276660807071956, \n",
            " 0.0%\n",
            "150 - Loss: 1.3274361296842119, \n",
            " 0.0%\n",
            "151 - Loss: 1.3272064759791409, \n",
            " 0.0%\n",
            "152 - Loss: 1.3269771168775644, \n",
            " 0.0%\n",
            "153 - Loss: 1.326748049764614, \n",
            " 0.0%\n",
            "154 - Loss: 1.326519272120666, \n",
            " 0.0%\n",
            "155 - Loss: 1.3262907815172214, \n",
            " 0.0%\n",
            "156 - Loss: 1.3260625756129685, \n",
            " 0.0%\n",
            "157 - Loss: 1.3258346521500175, \n",
            " 0.0%\n",
            "158 - Loss: 1.3256070089502985, \n",
            " 0.0%\n",
            "159 - Loss: 1.3253796439121175, \n",
            " 0.0%\n",
            "160 - Loss: 1.3251525550068646, \n",
            " 0.0%\n",
            "161 - Loss: 1.3249257402758634, \n",
            " 0.0%\n",
            "162 - Loss: 1.3246991978273601, \n",
            " 0.0%\n",
            "163 - Loss: 1.3244729258336436, \n",
            " 0.0%\n",
            "164 - Loss: 1.3242469225282911, \n",
            " 0.0%\n",
            "165 - Loss: 1.324021186203534, \n",
            " 0.0%\n",
            "166 - Loss: 1.3237957152077406, \n",
            " 0.0%\n",
            "167 - Loss: 1.3235705079430053, \n",
            " 0.0%\n",
            "168 - Loss: 1.3233455628628465, \n",
            " 0.0%\n",
            "169 - Loss: 1.3231208784700033, \n",
            " 0.0%\n",
            "170 - Loss: 1.3228964533143277, \n",
            " 0.0%\n",
            "171 - Loss: 1.322672285990772, \n",
            " 0.0%\n",
            "172 - Loss: 1.3224483751374592, \n",
            " 0.0%\n",
            "173 - Loss: 1.3222247194338423, \n",
            " 0.0%\n",
            "174 - Loss: 1.3220013175989407, \n",
            " 0.0%\n",
            "175 - Loss: 1.321778168389655, \n",
            " 0.0%\n",
            "176 - Loss: 1.3215552705991551, \n",
            " 0.0%\n",
            "177 - Loss: 1.3213326230553382, \n",
            " 0.0%\n",
            "178 - Loss: 1.3211102246193547, \n",
            " 0.0%\n",
            "179 - Loss: 1.320888074184198, \n",
            " 0.0%\n",
            "180 - Loss: 1.320666170673355, \n",
            " 0.0%\n",
            "181 - Loss: 1.3204445130395168, \n",
            " 0.0%\n",
            "182 - Loss: 1.320223100263346, \n",
            " 0.0%\n",
            "183 - Loss: 1.3200019313522946, \n",
            " 0.0%\n",
            "184 - Loss: 1.3197810053394767, \n",
            " 0.0%\n",
            "185 - Loss: 1.3195603212825895, \n",
            " 0.0%\n",
            "186 - Loss: 1.3193398782628794, \n",
            " 0.0%\n",
            "187 - Loss: 1.3191196753841574, \n",
            " 0.0%\n",
            "188 - Loss: 1.3188997117718508, \n",
            " 0.0%\n",
            "189 - Loss: 1.3186799865721037, \n",
            " 0.0%\n",
            "190 - Loss: 1.3184604989509103, \n",
            " 0.0%\n",
            "191 - Loss: 1.31824124809329, \n",
            " 0.0%\n",
            "192 - Loss: 1.3180222332024967, \n",
            " 0.0%\n",
            "193 - Loss: 1.3178034534992622, \n",
            " 0.0%\n",
            "194 - Loss: 1.3175849082210742, \n",
            " 0.0%\n",
            "195 - Loss: 1.3173665966214834, \n",
            " 0.0%\n",
            "196 - Loss: 1.3171485179694424, \n",
            " 0.0%\n",
            "197 - Loss: 1.3169306715486733, \n",
            " 0.0%\n",
            "198 - Loss: 1.3167130566570624, \n",
            " 0.0%\n",
            "199 - Loss: 1.3164956726060797, \n",
            " 0.0%\n",
            "200 - Loss: 1.316278518720227, \n",
            " 0.0%\n"
          ]
        }
      ]
    },
    {
      "cell_type": "code",
      "source": [
        "digit_classifier.test(X_test, Y_test, w)"
      ],
      "metadata": {
        "id": "af_Vtzu6y6wS",
        "colab": {
          "base_uri": "https://localhost:8080/"
        },
        "outputId": "dc8444ea-ba28-48be-cac4-853d17e40beb"
      },
      "execution_count": 46,
      "outputs": [
        {
          "output_type": "stream",
          "name": "stdout",
          "text": [
            "Success: 0/48 0.0%\n"
          ]
        }
      ]
    },
    {
      "cell_type": "code",
      "source": [
        "! curl -o \"image_tester.png\" \"https://raw.githubusercontent.com/DanyelMorales/MLLearneerRepo/main/dataset/7.png\""
      ],
      "metadata": {
        "colab": {
          "base_uri": "https://localhost:8080/"
        },
        "id": "gdmoOrduR4yH",
        "outputId": "8391e1b0-df49-4a25-b765-9e7019d8f375"
      },
      "execution_count": 47,
      "outputs": [
        {
          "output_type": "stream",
          "name": "stdout",
          "text": [
            "  % Total    % Received % Xferd  Average Speed   Time    Time     Time  Current\n",
            "                                 Dload  Upload   Total   Spent    Left  Speed\n",
            "100 10437  100 10437    0     0  41788      0 --:--:-- --:--:-- --:--:-- 41915\n"
          ]
        }
      ]
    },
    {
      "cell_type": "markdown",
      "source": [],
      "metadata": {
        "id": "Ll4CN12jSlfo"
      }
    },
    {
      "cell_type": "code",
      "source": [
        "import cv2\n",
        "import matplotlib.pyplot as plt\n",
        "import numpy as np\n",
        "\n",
        "def load_image(file):\n",
        "  test_image = cv2.imread(file,cv2.IMREAD_GRAYSCALE)\n",
        "  img_resized = cv2.resize(test_image, (28, 28))\n",
        "  img_resized = cv2.bitwise_not(img_resized)\n",
        "  plt.imshow(img_resized, cmap=\"Greys\")\n",
        "  return img_resized"
      ],
      "metadata": {
        "id": "_QYFYlCLb87F"
      },
      "execution_count": 48,
      "outputs": []
    },
    {
      "cell_type": "code",
      "source": [
        "# prompt: cv2 image to np buffer\n",
        "\n",
        "def cv2_to_np_buffer(img):\n",
        "  np_img = np.asarray(img)\n",
        "  np_img = np.expand_dims(np_img, axis=0)\n",
        "  print(np_img.shape)\n",
        "  return np_img\n",
        "\n",
        "def prepare_image(img):\n",
        "  img = cv2_to_np_buffer(load_image(img))\n",
        "  img= img.reshape(1,28*28)\n",
        "  img = prepend_bias(img)\n",
        "  print(f\"w shape: {w.shape}\")\n",
        "  print(f\"img shape: {img.shape}\")\n",
        "  return img\n"
      ],
      "metadata": {
        "id": "eW0duzsLjuxW"
      },
      "execution_count": 49,
      "outputs": []
    },
    {
      "cell_type": "code",
      "source": [
        "tester = prepare_image(\"image_tester.png\")"
      ],
      "metadata": {
        "colab": {
          "base_uri": "https://localhost:8080/",
          "height": 485
        },
        "id": "UKRlxBPecZS-",
        "outputId": "28acbb12-84d1-4613-8f59-36a342d9cf20"
      },
      "execution_count": 50,
      "outputs": [
        {
          "output_type": "stream",
          "name": "stdout",
          "text": [
            "(1, 28, 28)\n",
            "w shape: (61, 2)\n",
            "img shape: (1, 785)\n"
          ]
        },
        {
          "output_type": "display_data",
          "data": {
            "text/plain": [
              "<Figure size 640x480 with 1 Axes>"
            ],
            "image/png": "[encoded data removed]"
          },
          "metadata": {}
        }
      ]
    },
    {
      "cell_type": "markdown",
      "source": [],
      "metadata": {
        "id": "_ZgUGs3FNb41"
      }
    },
    {
      "cell_type": "code",
      "source": [
        "digit_classifier.classify(tester,w)"
      ],
      "metadata": {
        "colab": {
          "base_uri": "https://localhost:8080/",
          "height": 318
        },
        "id": "ivdj-OLzQ5OT",
        "outputId": "18cdc3bc-0cf4-4f8e-b4b2-585881374438"
      },
      "execution_count": 51,
      "outputs": [
        {
          "output_type": "error",
          "ename": "ValueError",
          "evalue": "matmul: Input operand 1 has a mismatch in its core dimension 0, with gufunc signature (n?,k),(k,m?)->(n?,m?) (size 61 is different from 785)",
          "traceback": [
            "\u001b[0;31m---------------------------------------------------------------------------\u001b[0m",
            "\u001b[0;31mValueError\u001b[0m                                Traceback (most recent call last)",
            "\u001b[0;32m<ipython-input-51-8278cf61fe47>\u001b[0m in \u001b[0;36m<cell line: 1>\u001b[0;34m()\u001b[0m\n\u001b[0;32m----> 1\u001b[0;31m \u001b[0mdigit_classifier\u001b[0m\u001b[0;34m.\u001b[0m\u001b[0mclassify\u001b[0m\u001b[0;34m(\u001b[0m\u001b[0mtester\u001b[0m\u001b[0;34m,\u001b[0m\u001b[0mw\u001b[0m\u001b[0;34m)\u001b[0m\u001b[0;34m\u001b[0m\u001b[0;34m\u001b[0m\u001b[0m\n\u001b[0m",
            "\u001b[0;32m/content/digit_classifier.py\u001b[0m in \u001b[0;36mclassify\u001b[0;34m(X, w)\u001b[0m\n\u001b[1;32m     31\u001b[0m \u001b[0;34m\u001b[0m\u001b[0m\n\u001b[1;32m     32\u001b[0m \u001b[0;32mdef\u001b[0m \u001b[0mclassify\u001b[0m\u001b[0;34m(\u001b[0m\u001b[0mX\u001b[0m\u001b[0;34m,\u001b[0m\u001b[0mw\u001b[0m\u001b[0;34m)\u001b[0m\u001b[0;34m:\u001b[0m\u001b[0;34m\u001b[0m\u001b[0;34m\u001b[0m\u001b[0m\n\u001b[0;32m---> 33\u001b[0;31m   \u001b[0my_hat\u001b[0m \u001b[0;34m=\u001b[0m \u001b[0mforward\u001b[0m\u001b[0;34m(\u001b[0m\u001b[0mX\u001b[0m\u001b[0;34m,\u001b[0m\u001b[0mw\u001b[0m\u001b[0;34m)\u001b[0m\u001b[0;34m\u001b[0m\u001b[0;34m\u001b[0m\u001b[0m\n\u001b[0m\u001b[1;32m     34\u001b[0m   \u001b[0mlabels\u001b[0m\u001b[0;34m=\u001b[0m\u001b[0mnp\u001b[0m\u001b[0;34m.\u001b[0m\u001b[0margmax\u001b[0m\u001b[0;34m(\u001b[0m\u001b[0my_hat\u001b[0m\u001b[0;34m,\u001b[0m \u001b[0maxis\u001b[0m\u001b[0;34m=\u001b[0m\u001b[0;36m1\u001b[0m\u001b[0;34m)\u001b[0m\u001b[0;34m\u001b[0m\u001b[0;34m\u001b[0m\u001b[0m\n\u001b[1;32m     35\u001b[0m   \u001b[0;32mreturn\u001b[0m \u001b[0mlabels\u001b[0m\u001b[0;34m.\u001b[0m\u001b[0mreshape\u001b[0m\u001b[0;34m(\u001b[0m\u001b[0;34m-\u001b[0m\u001b[0;36m1\u001b[0m\u001b[0;34m,\u001b[0m\u001b[0;36m1\u001b[0m\u001b[0;34m)\u001b[0m\u001b[0;34m\u001b[0m\u001b[0;34m\u001b[0m\u001b[0m\n",
            "\u001b[0;32m/content/digit_classifier.py\u001b[0m in \u001b[0;36mforward\u001b[0;34m(X, w)\u001b[0m\n\u001b[1;32m      7\u001b[0m \u001b[0;34m\u001b[0m\u001b[0m\n\u001b[1;32m      8\u001b[0m \u001b[0;32mdef\u001b[0m \u001b[0mforward\u001b[0m\u001b[0;34m(\u001b[0m\u001b[0mX\u001b[0m\u001b[0;34m,\u001b[0m\u001b[0mw\u001b[0m\u001b[0;34m)\u001b[0m\u001b[0;34m:\u001b[0m\u001b[0;34m\u001b[0m\u001b[0;34m\u001b[0m\u001b[0m\n\u001b[0;32m----> 9\u001b[0;31m   \u001b[0;32mreturn\u001b[0m \u001b[0msigmoid\u001b[0m\u001b[0;34m(\u001b[0m\u001b[0mnp\u001b[0m\u001b[0;34m.\u001b[0m\u001b[0mmatmul\u001b[0m\u001b[0;34m(\u001b[0m\u001b[0mX\u001b[0m\u001b[0;34m,\u001b[0m\u001b[0mw\u001b[0m\u001b[0;34m)\u001b[0m\u001b[0;34m)\u001b[0m\u001b[0;34m\u001b[0m\u001b[0;34m\u001b[0m\u001b[0m\n\u001b[0m\u001b[1;32m     10\u001b[0m \u001b[0;34m\u001b[0m\u001b[0m\n\u001b[1;32m     11\u001b[0m \u001b[0;32mdef\u001b[0m \u001b[0mgradient\u001b[0m\u001b[0;34m(\u001b[0m\u001b[0mX\u001b[0m\u001b[0;34m,\u001b[0m\u001b[0mY\u001b[0m\u001b[0;34m,\u001b[0m\u001b[0mw\u001b[0m\u001b[0;34m)\u001b[0m\u001b[0;34m:\u001b[0m\u001b[0;34m\u001b[0m\u001b[0;34m\u001b[0m\u001b[0m\n",
            "\u001b[0;31mValueError\u001b[0m: matmul: Input operand 1 has a mismatch in its core dimension 0, with gufunc signature (n?,k),(k,m?)->(n?,m?) (size 61 is different from 785)"
          ]
        }
      ]
    },
    {
      "cell_type": "code",
      "source": [
        "import pandas as pd\n",
        "pd.DataFrame(w)"
      ],
      "metadata": {
        "id": "ctUgk1leNWsc"
      },
      "execution_count": null,
      "outputs": []
    },
    {
      "cell_type": "code",
      "source": [],
      "metadata": {
        "id": "4_y9P-JiOptd"
      },
      "execution_count": null,
      "outputs": []
    }
  ]
}